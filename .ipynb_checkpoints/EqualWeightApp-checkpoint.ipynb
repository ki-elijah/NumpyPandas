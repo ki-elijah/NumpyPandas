{
 "cells": [
  {
   "cell_type": "code",
   "execution_count": 2,
   "metadata": {},
   "outputs": [],
   "source": [
    "import numpy as np\n",
    "import pandas as pd\n",
    "import xlsxwriter\n",
    "import requests\n",
    "import math"
   ]
  },
  {
   "cell_type": "code",
   "execution_count": 3,
   "metadata": {},
   "outputs": [],
   "source": [
    "stocks = pd.read_csv('sp_500_stocks.csv')"
   ]
  },
  {
   "cell_type": "code",
   "execution_count": 4,
   "metadata": {},
   "outputs": [],
   "source": [
    "from secrets import IEX_CLOUD_API_TOKEN"
   ]
  },
  {
   "cell_type": "code",
   "execution_count": 5,
   "metadata": {},
   "outputs": [
    {
     "data": {
      "text/plain": [
       "{'symbol': 'AAPL',\n",
       " 'companyName': 'Apple Inc',\n",
       " 'primaryExchange': 'E(AAMLLNENTA BR/LSGQ)S EDSO AGKCT',\n",
       " 'calculationPrice': 'close',\n",
       " 'open': 147,\n",
       " 'openTime': 1670308052305,\n",
       " 'openSource': 'fafliico',\n",
       " 'close': 149.02,\n",
       " 'closeTime': 1628124947262,\n",
       " 'closeSource': 'filocaif',\n",
       " 'high': 152.1,\n",
       " 'highTime': 1628664181594,\n",
       " 'highSource': 'tneced1lrudm5ei  ei yap',\n",
       " 'low': 147,\n",
       " 'lowTime': 1704656302877,\n",
       " 'lowSource': 't rdmeu e cpia5ineyl1de',\n",
       " 'latestPrice': 152.24,\n",
       " 'latestSource': 'Close',\n",
       " 'latestTime': 'July 30, 2021',\n",
       " 'latestUpdate': 1673079421370,\n",
       " 'latestVolume': 72127578,\n",
       " 'iexRealtimePrice': 150.91,\n",
       " 'iexRealtimeSize': 104,\n",
       " 'iexLastUpdated': 1698528847848,\n",
       " 'delayedPrice': 150.74,\n",
       " 'delayedPriceTime': 1639456345649,\n",
       " 'oddLotDelayedPrice': 149.51,\n",
       " 'oddLotDelayedPriceTime': 1628300461386,\n",
       " 'extendedPrice': 148.02,\n",
       " 'extendedChange': 0.09,\n",
       " 'extendedChangePercent': 0.00062,\n",
       " 'extendedPriceTime': 1696826649432,\n",
       " 'previousClose': 148.47,\n",
       " 'previousVolume': 57567732,\n",
       " 'change': 0.23,\n",
       " 'changePercent': 0.00154,\n",
       " 'volume': 70493414,\n",
       " 'iexMarketPercent': 0.010939822551622016,\n",
       " 'iexVolume': 753143,\n",
       " 'avgTotalVolume': 97067066,\n",
       " 'iexBidPrice': 0,\n",
       " 'iexBidSize': 0,\n",
       " 'iexAskPrice': 0,\n",
       " 'iexAskSize': 0,\n",
       " 'iexOpen': 146.87,\n",
       " 'iexOpenTime': 1699914562171,\n",
       " 'iexClose': 152.96,\n",
       " 'iexCloseTime': 1703546036257,\n",
       " 'marketCap': 2470969516868,\n",
       " 'peRatio': 29.7,\n",
       " 'week52High': 152,\n",
       " 'week52Low': 104.68,\n",
       " 'ytdChange': 0.10822166604121176,\n",
       " 'lastTradeTime': 1650294548457,\n",
       " 'currency': 'USD',\n",
       " 'isUSMarketOpen': False}"
      ]
     },
     "execution_count": 5,
     "metadata": {},
     "output_type": "execute_result"
    }
   ],
   "source": [
    "symbol='AAPL'\n",
    "api_url = f'https://sandbox.iexapis.com/stable/stock/{symbol}/quote?token={IEX_CLOUD_API_TOKEN}'\n",
    "data = requests.get(api_url).json()\n",
    "data"
   ]
  },
  {
   "cell_type": "code",
   "execution_count": 6,
   "metadata": {},
   "outputs": [],
   "source": [
    "price = data['latestPrice']\n",
    "market_cap = data['marketCap']"
   ]
  },
  {
   "cell_type": "code",
   "execution_count": 10,
   "metadata": {},
   "outputs": [
    {
     "data": {
      "text/html": [
       "<div>\n",
       "<style scoped>\n",
       "    .dataframe tbody tr th:only-of-type {\n",
       "        vertical-align: middle;\n",
       "    }\n",
       "\n",
       "    .dataframe tbody tr th {\n",
       "        vertical-align: top;\n",
       "    }\n",
       "\n",
       "    .dataframe thead th {\n",
       "        text-align: right;\n",
       "    }\n",
       "</style>\n",
       "<table border=\"1\" class=\"dataframe\">\n",
       "  <thead>\n",
       "    <tr style=\"text-align: right;\">\n",
       "      <th></th>\n",
       "      <th>Ticker</th>\n",
       "      <th>Stock Price</th>\n",
       "      <th>Market Capitalization</th>\n",
       "      <th>Number of Shares to Buy</th>\n",
       "    </tr>\n",
       "  </thead>\n",
       "  <tbody>\n",
       "  </tbody>\n",
       "</table>\n",
       "</div>"
      ],
      "text/plain": [
       "Empty DataFrame\n",
       "Columns: [Ticker, Stock Price, Market Capitalization, Number of Shares to Buy]\n",
       "Index: []"
      ]
     },
     "execution_count": 10,
     "metadata": {},
     "output_type": "execute_result"
    }
   ],
   "source": [
    "my_columns = ['Ticker','Stock Price','Market Capitalization','Number of Shares to Buy']\n",
    "final_dataframe = pd.DataFrame(columns = my_columns)\n",
    "final_dataframe"
   ]
  },
  {
   "cell_type": "code",
   "execution_count": 14,
   "metadata": {},
   "outputs": [
    {
     "data": {
      "text/html": [
       "<div>\n",
       "<style scoped>\n",
       "    .dataframe tbody tr th:only-of-type {\n",
       "        vertical-align: middle;\n",
       "    }\n",
       "\n",
       "    .dataframe tbody tr th {\n",
       "        vertical-align: top;\n",
       "    }\n",
       "\n",
       "    .dataframe thead th {\n",
       "        text-align: right;\n",
       "    }\n",
       "</style>\n",
       "<table border=\"1\" class=\"dataframe\">\n",
       "  <thead>\n",
       "    <tr style=\"text-align: right;\">\n",
       "      <th></th>\n",
       "      <th>Ticker</th>\n",
       "      <th>Stock Price</th>\n",
       "      <th>Market Capitalization</th>\n",
       "      <th>Number of Shares to Buy</th>\n",
       "    </tr>\n",
       "  </thead>\n",
       "  <tbody>\n",
       "    <tr>\n",
       "      <th>0</th>\n",
       "      <td>AAPL</td>\n",
       "      <td>152.24</td>\n",
       "      <td>2470969516868</td>\n",
       "      <td>N/A</td>\n",
       "    </tr>\n",
       "  </tbody>\n",
       "</table>\n",
       "</div>"
      ],
      "text/plain": [
       "  Ticker  Stock Price Market Capitalization Number of Shares to Buy\n",
       "0   AAPL       152.24         2470969516868                     N/A"
      ]
     },
     "execution_count": 14,
     "metadata": {},
     "output_type": "execute_result"
    }
   ],
   "source": [
    "final_dataframe.append(\n",
    "    pd.Series(\n",
    "        [\n",
    "            symbol,\n",
    "            price,\n",
    "            market_cap,\n",
    "            'N/A'\n",
    "        ],\n",
    "    index = my_columns\n",
    "    ),\n",
    "    ignore_index=True\n",
    ")"
   ]
  }
 ],
 "metadata": {
  "kernelspec": {
   "display_name": "Python 3",
   "language": "python",
   "name": "python3"
  },
  "language_info": {
   "codemirror_mode": {
    "name": "ipython",
    "version": 3
   },
   "file_extension": ".py",
   "mimetype": "text/x-python",
   "name": "python",
   "nbconvert_exporter": "python",
   "pygments_lexer": "ipython3",
   "version": "3.8.5"
  }
 },
 "nbformat": 4,
 "nbformat_minor": 4
}
